{
 "cells": [
  {
   "cell_type": "code",
   "execution_count": null,
   "id": "e48b95b0",
   "metadata": {},
   "outputs": [],
   "source": [
    "import requests\n",
    "import time\n",
    "import random\n",
    "import string\n",
    "\n",
    "# Configuration\n",
    "BASE_PORT = 3000\n",
    "NUM_PORTS = 6  # 3000 to 3005 inclusive\n",
    "NUM_TRANSACTIONS = 10000000000  # Set how many you want to send\n",
    "DELAY_BETWEEN_TX = 1  # Seconds\n",
    "\n",
    "def generate_random_recipient(length=16):\n",
    "    \"\"\"Generate a random recipient address.\"\"\"\n",
    "    return ''.join(random.choices(string.ascii_lowercase + string.digits, k=length))\n",
    "\n",
    "def send_transaction():\n",
    "    recipient = generate_random_recipient()\n",
    "    random_port = BASE_PORT + random.randint(0, NUM_PORTS - 1)\n",
    "    api_url = f\"http://localhost:{random_port}/api/transact\"\n",
    "\n",
    "    payload = {\n",
    "        \"amount\": 0.001,\n",
    "        \"recipient\": recipient\n",
    "    }\n",
    "\n",
    "    try:\n",
    "        response = requests.post(api_url, json=payload)\n",
    "        if response.status_code == 200:\n",
    "            x=0\n",
    "            #print(f\"✅ Sent 0.001 coin to {recipient} via port {random_port}\")\n",
    "        else:\n",
    "            print(f\"❌ Failed on port {random_port}. Status: {response.status_code} | {response.text}\")\n",
    "    except Exception as e:\n",
    "        print(f\"❌ Error on port {random_port}: {e}\")\n",
    "\n",
    "# Send transactions one by one, waiting in between\n",
    "for i in range(NUM_TRANSACTIONS):\n",
    "    #print(f\"\\n🚀 Sending transaction #{i + 1}\")\n",
    "    send_transaction()\n",
    "    time.sleep(DELAY_BETWEEN_TX)\n",
    "\n",
    "print(\"\\n✅ Finished sending all transactions.\")\n"
   ]
  },
  {
   "cell_type": "code",
   "execution_count": null,
   "id": "f756a827",
   "metadata": {},
   "outputs": [],
   "source": []
  }
 ],
 "metadata": {
  "kernelspec": {
   "display_name": "Python 3 (ipykernel)",
   "language": "python",
   "name": "python3"
  },
  "language_info": {
   "codemirror_mode": {
    "name": "ipython",
    "version": 3
   },
   "file_extension": ".py",
   "mimetype": "text/x-python",
   "name": "python",
   "nbconvert_exporter": "python",
   "pygments_lexer": "ipython3",
   "version": "3.11.5"
  }
 },
 "nbformat": 4,
 "nbformat_minor": 5
}
